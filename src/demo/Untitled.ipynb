{
 "cells": [
  {
   "cell_type": "code",
   "execution_count": null,
   "id": "852d5068-f9b5-46e9-83ee-0af0a1b32320",
   "metadata": {},
   "outputs": [],
   "source": []
  },
  {
   "cell_type": "code",
   "execution_count": 7,
   "id": "e93e62f1-47ea-4f57-9567-29f44a0e196c",
   "metadata": {},
   "outputs": [],
   "source": [
    "text = '[CLS] <title> 冬 天 [SEP] 四 季 <artist> 陈 冠 希 <genre> [\\'通 俗 音 乐 \\',\\'流 行\\'] </prompt> <lyrics> 冬 季 已 过 去 有 点 冷 清 <sentence_end> 我 们 坐 在 这 里 看 日 落 <sentence_end> 太 阳 虽 然 升 起 <sentence_end> 可 是 它 总 不 见 踪 影 <sentence_end> 一 人 坐 下 来 想 要 一 本 书 <sentence_end> 拿 起 来 放 在 胸 口 <sentence_end> 想 起 我 和 你 在 冬 眠 前 <sentence_end> 那 段 恋 情 回 忆 的 碎 片 <sentence_end> 再 拼 凑 完 美 已 经 无 法 回 去 <sentence_end> 有 人 在 等 你 睡 醒 <sentence_end> 而 那 些 故 事 也 只 是 空 白 回 音 <sentence_end> 你 不 再 等 待 <sentence_end> 如 果 这 是 梦 我 愿 转 身 让 你 走 <sentence_end> 冬 日 已 到 来 有 些 冷 静 <sentence_end> 只 好 把 这 首 歌 送 给 你 <sentence_end> 把 心 情 好 好 珍 藏 <sentence_end> 给 我 你 的 冬 意 <sentence_end> [SEP] <block_end> 冬 至 已 至 去 年 三 百 多 天 <sentence_end> 看 着 窗 外 雪 花 飘 满 地 <sentence_end> 却 再 也 没 有 见 过 你 归 来 的 踪 迹 <sentence_end> 不 知 不 觉 间 又 是 冬 的 四 月 <sentence_end> 已 走 了 好 几 百 里 <sentence_end> 留 下 我 在 雪 地 里 度 过 生 活 <sentence_end> 现 在 的 你 去 了 哪 里 一 切 你 都 记 不 起 <block_end> 如 今 又 到 了 午 夜 零 点 几 <sentence_end> 又 来 到 这 个 世 界 <sentence_end> 从 此 以 后 不 会 再 有 谁 陪 伴 你 <block_end> [SEP] <sentence_end> 以 前 也 有 冬 雨 <sentence_end> [UNK] [UNK] <sentence_end> 但 它 从 未 见 到 过 夏 季 <sentence_end> 啦 <sentence_end> 还 好 冬 又 至 <sentence_end> 每 天 想 你 一 天 过 一 日 <sentence_end> 多 少 的 心 事 <sentence_end> 藏 在 心 里 面 <sentence_end> 在 我 心 田 <sentence_end> 因 为 有 过 冬 雪 <sentence_end> 时 间 不 能 改 变 <sentence_end> 心 中 不 停 地 想 念 <sentence_end> 期 待 你 出 现 <sentence_end> 到 如 愿 <sentence_end> <sentence_end> 制 <sentence_end> 未 经 许 可, 不 得 翻 唱 或 使 用 <sentence_end> 原 曲 ： 冬 之 夏 未 <sentence_end> 词 ： 陈 <sentence_end> 需 注 明 ： [SEP] [SEP] 填 词 翻 译 ： <sentence_end> 。 。 <sentence_end> 作 为 冬 冬 叶 片 来 源 <sentence_end> 欢 迎 来 ： 。 ， [SEP] 素 素 <sentence_end> 出 品 ： 新 浪 讯 平 台 <sentence_end> 发 行 ： 中 文 正 迅 <sentence_end> 快 乐 快 销 <sentence_end> 版 权 ： 正 源 音 讯 <sentence_end> 谢 谢 <sentence_end> 2018 <sentence_end> 17 <sentence_end> 2019 <sentence_end> 吉 祥 快 讯 <block_end> 2021 <sentence_end> 全 国 通 讯 全 部 返 回 <sentence_end>'"
   ]
  },
  {
   "cell_type": "code",
   "execution_count": 2,
   "id": "e4ed01d5-bf1a-40b6-a7bc-565a4cf0c3f1",
   "metadata": {},
   "outputs": [],
   "source": [
    "def after_clean(text):\n",
    "    semi_colon = ['改 编 自','编 曲','吉 他','和 声 编 写','主 音','制 作 人','配 唱 制 度',\n",
    "                  '出 品','发 行','唱 片 出 版','音 频 制 造','企 业 和 制 销','广 告 支 持',\n",
    "                  '宣 传','平 台 发 布','歌 词 使 者']\n",
    "    del_list = ['未 经 许 可', '未 注 明 来 源']\n",
    "    for i in semi_colon:\n",
    "        index_A = text.find(i + ':')\n",
    "        index_B = text.find(i + '：')\n",
    "        if index_A != -1:\n",
    "            text = text[:index_A]\n",
    "        if index_B != -1:\n",
    "            text = text[:index_B]\n",
    "    \n",
    "    for j in del_list:\n",
    "        index = text.find(j)\n",
    "        if index != -1:\n",
    "            text = text[:index]\n",
    "            \n",
    "    return text"
   ]
  },
  {
   "cell_type": "code",
   "execution_count": 10,
   "id": "448c6271-e990-4493-94bb-5c3ede7a5495",
   "metadata": {},
   "outputs": [],
   "source": [
    "generation = after_clean(text)"
   ]
  },
  {
   "cell_type": "code",
   "execution_count": 12,
   "id": "b6ccf0d0-e119-4aae-acf7-77391704e9a4",
   "metadata": {},
   "outputs": [],
   "source": [
    "generation = generation.replace('<sentence_end>', '\\n')\n",
    "generation = generation.replace('<block_end>', '\\n')\n",
    "generation = generation.replace('[SEP]', '')"
   ]
  },
  {
   "cell_type": "code",
   "execution_count": 14,
   "id": "71833080-3d6a-40a9-aed1-279e25beef48",
   "metadata": {},
   "outputs": [
    {
     "name": "stdout",
     "output_type": "stream",
     "text": [
      "[CLS] <title> 冬 天  四 季 <artist> 陈 冠 希 <genre> ['通 俗 音 乐 ','流 行'] </prompt> <lyrics> 冬 季 已 过 去 有 点 冷 清 \n",
      " 我 们 坐 在 这 里 看 日 落 \n",
      " 太 阳 虽 然 升 起 \n",
      " 可 是 它 总 不 见 踪 影 \n",
      " 一 人 坐 下 来 想 要 一 本 书 \n",
      " 拿 起 来 放 在 胸 口 \n",
      " 想 起 我 和 你 在 冬 眠 前 \n",
      " 那 段 恋 情 回 忆 的 碎 片 \n",
      " 再 拼 凑 完 美 已 经 无 法 回 去 \n",
      " 有 人 在 等 你 睡 醒 \n",
      " 而 那 些 故 事 也 只 是 空 白 回 音 \n",
      " 你 不 再 等 待 \n",
      " 如 果 这 是 梦 我 愿 转 身 让 你 走 \n",
      " 冬 日 已 到 来 有 些 冷 静 \n",
      " 只 好 把 这 首 歌 送 给 你 \n",
      " 把 心 情 好 好 珍 藏 \n",
      " 给 我 你 的 冬 意 \n",
      "  \n",
      " 冬 至 已 至 去 年 三 百 多 天 \n",
      " 看 着 窗 外 雪 花 飘 满 地 \n",
      " 却 再 也 没 有 见 过 你 归 来 的 踪 迹 \n",
      " 不 知 不 觉 间 又 是 冬 的 四 月 \n",
      " 已 走 了 好 几 百 里 \n",
      " 留 下 我 在 雪 地 里 度 过 生 活 \n",
      " 现 在 的 你 去 了 哪 里 一 切 你 都 记 不 起 \n",
      " 如 今 又 到 了 午 夜 零 点 几 \n",
      " 又 来 到 这 个 世 界 \n",
      " 从 此 以 后 不 会 再 有 谁 陪 伴 你 \n",
      "  \n",
      " 以 前 也 有 冬 雨 \n",
      " [UNK] [UNK] \n",
      " 但 它 从 未 见 到 过 夏 季 \n",
      " 啦 \n",
      " 还 好 冬 又 至 \n",
      " 每 天 想 你 一 天 过 一 日 \n",
      " 多 少 的 心 事 \n",
      " 藏 在 心 里 面 \n",
      " 在 我 心 田 \n",
      " 因 为 有 过 冬 雪 \n",
      " 时 间 不 能 改 变 \n",
      " 心 中 不 停 地 想 念 \n",
      " 期 待 你 出 现 \n",
      " 到 如 愿 \n",
      " \n",
      " 制 \n",
      " \n"
     ]
    }
   ],
   "source": [
    "print(generation)"
   ]
  },
  {
   "cell_type": "code",
   "execution_count": null,
   "id": "98c80357-21fe-42ee-8258-c2aa92c2a0d8",
   "metadata": {},
   "outputs": [],
   "source": []
  }
 ],
 "metadata": {
  "kernelspec": {
   "display_name": "Python 3",
   "language": "python",
   "name": "python3"
  },
  "language_info": {
   "codemirror_mode": {
    "name": "ipython",
    "version": 3
   },
   "file_extension": ".py",
   "mimetype": "text/x-python",
   "name": "python",
   "nbconvert_exporter": "python",
   "pygments_lexer": "ipython3",
   "version": "3.6.9"
  }
 },
 "nbformat": 4,
 "nbformat_minor": 5
}
